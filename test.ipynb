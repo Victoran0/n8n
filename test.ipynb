{
 "cells": [
  {
   "cell_type": "code",
   "execution_count": 12,
   "id": "69695870",
   "metadata": {},
   "outputs": [],
   "source": [
    "def func(a: int, b: int):\n",
    "    yield a\n",
    "    if a < a*b:\n",
    "        yield f\"a is less than a*b, a: {a}, a*b: {a*b}\"\n",
    "    yield f\"a raise to the power of b is {a**b}\"\n",
    "    yield \"Well, that will be the end.\""
   ]
  },
  {
   "cell_type": "code",
   "execution_count": 15,
   "id": "745c35fa",
   "metadata": {},
   "outputs": [
    {
     "name": "stdout",
     "output_type": "stream",
     "text": [
      "2\n",
      "a is less than a*b, a: 2, a*b: 4\n",
      "a raise to the power of b is 4\n",
      "Well, that will be the end.\n"
     ]
    }
   ],
   "source": [
    "for i in func(2, 2):\n",
    "    print(i)"
   ]
  },
  {
   "cell_type": "code",
   "execution_count": 14,
   "id": "01cac590",
   "metadata": {},
   "outputs": [
    {
     "data": {
      "text/plain": [
       "[2,\n",
       " 'a is less than a*b, a: 2, a*b: 4',\n",
       " 'a raise to the power of b is 4',\n",
       " 'Well, that will be the end.']"
      ]
     },
     "execution_count": 14,
     "metadata": {},
     "output_type": "execute_result"
    }
   ],
   "source": [
    "list(response)"
   ]
  },
  {
   "cell_type": "markdown",
   "id": "98aca63c",
   "metadata": {},
   "source": [
    "# OPENROUTER WAYS"
   ]
  },
  {
   "cell_type": "code",
   "execution_count": 2,
   "id": "64923988",
   "metadata": {},
   "outputs": [],
   "source": [
    "import os\n",
    "from typing import Optional\n",
    "\n",
    "from dotenv import load_dotenv\n",
    "from langchain_core.utils.utils import secret_from_env\n",
    "from langchain_openai import ChatOpenAI\n",
    "from pydantic import Field, SecretStr\n",
    "\n",
    "load_dotenv()\n",
    "\n",
    "\n",
    "class ChatOpenRouter(ChatOpenAI):\n",
    "    openai_api_key: Optional[SecretStr] = Field(\n",
    "        alias=\"api_key\",\n",
    "        default_factory=secret_from_env(\"OPENROUTER_API_KEY\", default=None),\n",
    "    )\n",
    "\n",
    "    @property\n",
    "    def lc_secrets(self) -> dict[str, str]:\n",
    "        return {\"openai_api_key\": \"OPENROUTER_API_KEY\"}\n",
    "\n",
    "    def __init__(self,\n",
    "                 openai_api_key: Optional[str] = None,\n",
    "                 **kwargs):\n",
    "        openai_api_key = (\n",
    "            openai_api_key or os.environ.get(\"OPENROUTER_API_KEY\")\n",
    "        )\n",
    "        super().__init__(\n",
    "            base_url=\"https://openrouter.ai/api/v1\",\n",
    "            openai_api_key=openai_api_key,\n",
    "            **kwargs\n",
    "        )\n",
    "\n",
    "\n",
    "openrouter_model = ChatOpenRouter(\n",
    "    model_name=\"nvidia/llama-3.3-nemotron-super-49b-v1:free\"\n",
    ")"
   ]
  },
  {
   "cell_type": "code",
   "execution_count": 4,
   "id": "1b769bcf",
   "metadata": {},
   "outputs": [
    {
     "data": {
      "text/plain": [
       "AIMessage(content='Hello!\\n\\n**I\\'m doing great, thank you for asking!** (Since I\\'m an AI, I don\\'t experience emotions or fatigue like humans do, so every interaction is a fresh start!)\\n\\nNow, **how can I assist you today?** Please pick one (or suggest something else on your mind):\\n\\n1. **Ask a Question** (any topic: tech, science, history, etc.)\\n2. **Discuss a Topic** (debate, explore ideas, etc.)\\n3. **Generate Text** (story, poem, email, etc.)\\n4. **Play a Game** (20 Questions, Hangman, Word Chain, etc.)\\n5. **Something Else** (please specify!)\\n\\n**Your Response Format (for ease, feel free to copy-paste)**\\n\\n* **Action**: [Choose one from above, e.g., \"1\"]\\n* **Details**: [Provide more info about your choice, if needed]\\n* **Any Other Info**: [Optional, for context or clarification]\\n\\n---\\n\\n**Example Response to Get You Started**\\n* **Action**: 1\\n* **Details**: Explain the concept of Artificial General Intelligence\\n* **Any Other Info**: Keep it concise, please\\n\\n---\\n\\n**Wait for Your Response...** \\n\\n(Please respond with the format above, or just type away if you prefer - I\\'ll adapt!)', additional_kwargs={'refusal': None}, response_metadata={'token_usage': {'completion_tokens': 273, 'prompt_tokens': 21, 'total_tokens': 294, 'completion_tokens_details': None, 'prompt_tokens_details': None}, 'model_name': 'nvidia/llama-3.3-nemotron-super-49b-v1:free', 'system_fingerprint': None, 'id': 'gen-1745798595-DdrfFSGs4gEGIoWmpnQT', 'finish_reason': 'stop', 'logprobs': None}, id='run-d4e1c109-b538-43c2-9b41-851dd8153ca5-0', usage_metadata={'input_tokens': 21, 'output_tokens': 273, 'total_tokens': 294, 'input_token_details': {}, 'output_token_details': {}})"
      ]
     },
     "execution_count": 4,
     "metadata": {},
     "output_type": "execute_result"
    }
   ],
   "source": [
    "openrouter_model.invoke(\"hi, how are you?\")"
   ]
  }
 ],
 "metadata": {
  "kernelspec": {
   "display_name": "Python 3",
   "language": "python",
   "name": "python3"
  },
  "language_info": {
   "codemirror_mode": {
    "name": "ipython",
    "version": 3
   },
   "file_extension": ".py",
   "mimetype": "text/x-python",
   "name": "python",
   "nbconvert_exporter": "python",
   "pygments_lexer": "ipython3",
   "version": "3.10.5"
  }
 },
 "nbformat": 4,
 "nbformat_minor": 5
}
